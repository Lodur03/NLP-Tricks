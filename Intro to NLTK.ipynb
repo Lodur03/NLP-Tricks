{
 "cells": [
  {
   "cell_type": "markdown",
   "metadata": {},
   "source": [
    "# Intro to NLTK\n",
    "\n",
    "[NLTK](https://www.nltk.org/) stands for Natural Language Toolkit. It's a particarly interesting platform to work with NLP (Natural Language Processing) in Python. \n",
    "\n",
    "### Table of Contents\n",
    "\n",
    "- <a href='#tokenization'>Tokenization</a>\n",
    "- <a href='#text_normalization'>Text Normalization</a>\n",
    "- <a href='#similarity'>Similarity</a>\n",
    "- <a href='#pos_tagging'>POS Tagging</a>\n",
    "- <a href='#wordnet'>WordNET</a>\n",
    "- <a href='#disambiguation'>Disambiguation</a>\n",
    "\n",
    "\n",
    "### Dependencies"
   ]
  },
  {
   "cell_type": "code",
   "execution_count": 1,
   "metadata": {},
   "outputs": [],
   "source": [
    "import nltk"
   ]
  },
  {
   "cell_type": "markdown",
   "metadata": {},
   "source": [
    "In order to further process the data, nltk provides a *corpora* that contains informations about different languages. Here's how you can download it:"
   ]
  },
  {
   "cell_type": "code",
   "execution_count": 2,
   "metadata": {
    "colab": {
     "base_uri": "https://localhost:8080/",
     "height": 311
    },
    "colab_type": "code",
    "executionInfo": {
     "elapsed": 10272,
     "status": "ok",
     "timestamp": 1542481479517,
     "user": {
      "displayName": "Carlos Henrique Quartucci Forster",
      "photoUrl": "",
      "userId": "02137782012702851301"
     },
     "user_tz": 120
    },
    "id": "UuQWvf3Q93_K",
    "outputId": "7ead9a37-5890-44e8-982f-7fc6337c454a",
    "scrolled": true
   },
   "outputs": [
    {
     "name": "stdout",
     "output_type": "stream",
     "text": [
      "[nltk_data] Downloading package punkt to\n",
      "[nltk_data]     C:\\Users\\T-Gamer\\AppData\\Roaming\\nltk_data...\n",
      "[nltk_data]   Package punkt is already up-to-date!\n",
      "[nltk_data] Downloading package stopwords to\n",
      "[nltk_data]     C:\\Users\\T-Gamer\\AppData\\Roaming\\nltk_data...\n",
      "[nltk_data]   Package stopwords is already up-to-date!\n",
      "[nltk_data] Downloading package wordnet to\n",
      "[nltk_data]     C:\\Users\\T-Gamer\\AppData\\Roaming\\nltk_data...\n",
      "[nltk_data]   Package wordnet is already up-to-date!\n",
      "[nltk_data] Downloading package averaged_perceptron_tagger to\n",
      "[nltk_data]     C:\\Users\\T-Gamer\\AppData\\Roaming\\nltk_data...\n",
      "[nltk_data]   Package averaged_perceptron_tagger is already up-to-\n",
      "[nltk_data]       date!\n",
      "[nltk_data] Downloading package tagsets to\n",
      "[nltk_data]     C:\\Users\\T-Gamer\\AppData\\Roaming\\nltk_data...\n",
      "[nltk_data]   Package tagsets is already up-to-date!\n",
      "[nltk_data] Downloading package treebank to\n",
      "[nltk_data]     C:\\Users\\T-Gamer\\AppData\\Roaming\\nltk_data...\n",
      "[nltk_data]   Package treebank is already up-to-date!\n",
      "[nltk_data] Downloading package omw to\n",
      "[nltk_data]     C:\\Users\\T-Gamer\\AppData\\Roaming\\nltk_data...\n",
      "[nltk_data]   Package omw is already up-to-date!\n"
     ]
    },
    {
     "data": {
      "text/plain": [
       "True"
      ]
     },
     "execution_count": 2,
     "metadata": {},
     "output_type": "execute_result"
    }
   ],
   "source": [
    "nltk.download('punkt')\n",
    "nltk.download('stopwords')\n",
    "nltk.download('wordnet')\n",
    "nltk.download('averaged_perceptron_tagger')\n",
    "nltk.download('tagsets')\n",
    "nltk.download('treebank')\n",
    "nltk.download('omw')"
   ]
  },
  {
   "cell_type": "markdown",
   "metadata": {
    "colab_type": "text",
    "id": "1jZKPAIZ-N11"
   },
   "source": [
    "( Based on *\"Mastering Natural Language Processing with Python\" (Chopra, Joshi, Mathur)* )\n",
    "\n",
    "Let's use reference text to process it and show how to use the library."
   ]
  },
  {
   "cell_type": "code",
   "execution_count": 3,
   "metadata": {
    "colab": {},
    "colab_type": "code",
    "id": "uBJUy1Zi-ckl"
   },
   "outputs": [],
   "source": [
    "text = \"Welcome students. NLP is an interesting subject. However, knowledge about many things is needed to achieve full undestanding.\""
   ]
  },
  {
   "cell_type": "markdown",
   "metadata": {
    "colab_type": "text",
    "id": "vdMIjmbB-_ov"
   },
   "source": [
    "## Tokenization <a id='tokenization'></a>\n",
    "\n",
    "Tokenization is a very important task in NLP.\n",
    "\n",
    "Given a *document unit* (that could be, for instance, a phrase), *tokenizing it* means that you will change your representation into pieces (tokens).\n",
    "\n",
    "Most commonly, tokenization is done on word-level, that is, it breaks up the text by the words (**word-level** tokenization). You can see it here:"
   ]
  },
  {
   "cell_type": "code",
   "execution_count": 4,
   "metadata": {
    "colab": {
     "base_uri": "https://localhost:8080/",
     "height": 421
    },
    "colab_type": "code",
    "executionInfo": {
     "elapsed": 1190,
     "status": "ok",
     "timestamp": 1542481507576,
     "user": {
      "displayName": "Carlos Henrique Quartucci Forster",
      "photoUrl": "",
      "userId": "02137782012702851301"
     },
     "user_tz": 120
    },
    "id": "x67RTXTGAdZj",
    "outputId": "3f2e3f94-8cd3-46be-b61c-d6e3179ea21f"
   },
   "outputs": [
    {
     "data": {
      "text/plain": [
       "['Welcome',\n",
       " 'students',\n",
       " '.',\n",
       " 'NLP',\n",
       " 'is',\n",
       " 'an',\n",
       " 'interesting',\n",
       " 'subject',\n",
       " '.',\n",
       " 'However',\n",
       " ',',\n",
       " 'knowledge',\n",
       " 'about',\n",
       " 'many',\n",
       " 'things',\n",
       " 'is',\n",
       " 'needed',\n",
       " 'to',\n",
       " 'achieve',\n",
       " 'full',\n",
       " 'undestanding',\n",
       " '.']"
      ]
     },
     "execution_count": 4,
     "metadata": {},
     "output_type": "execute_result"
    }
   ],
   "source": [
    "nltk.word_tokenize(text)"
   ]
  },
  {
   "cell_type": "markdown",
   "metadata": {},
   "source": [
    "But it's also possible to apply **sentence-level** tokenization:"
   ]
  },
  {
   "cell_type": "code",
   "execution_count": 5,
   "metadata": {
    "colab": {
     "base_uri": "https://localhost:8080/",
     "height": 72
    },
    "colab_type": "code",
    "executionInfo": {
     "elapsed": 819,
     "status": "ok",
     "timestamp": 1542481496463,
     "user": {
      "displayName": "Carlos Henrique Quartucci Forster",
      "photoUrl": "",
      "userId": "02137782012702851301"
     },
     "user_tz": 120
    },
    "id": "6fC8_LMZ_I0j",
    "outputId": "ab3049ae-6baf-4359-819d-3506b9b8d406"
   },
   "outputs": [
    {
     "data": {
      "text/plain": [
       "['Welcome students.',\n",
       " 'NLP is an interesting subject.',\n",
       " 'However, knowledge about many things is needed to achieve full undestanding.']"
      ]
     },
     "execution_count": 5,
     "metadata": {},
     "output_type": "execute_result"
    }
   ],
   "source": [
    "from nltk.tokenize import sent_tokenize\n",
    "sent_tokenize(text)"
   ]
  },
  {
   "cell_type": "markdown",
   "metadata": {},
   "source": [
    "Althought most things in NLTK are pre-defined to work with English, **NLTK also provides data for other langugages**."
   ]
  },
  {
   "cell_type": "code",
   "execution_count": 6,
   "metadata": {
    "colab": {},
    "colab_type": "code",
    "id": "Rayb-TTw_dcj"
   },
   "outputs": [
    {
     "data": {
      "text/plain": [
       "['Este texto em português é \"tokenizado\".', 'Cortesia do NLTK.']"
      ]
     },
     "execution_count": 6,
     "metadata": {},
     "output_type": "execute_result"
    }
   ],
   "source": [
    "port_tokenizer=nltk.data.load('tokenizers/punkt/portuguese.pickle')\n",
    "port_text='Este texto em português é \"tokenizado\". Cortesia do NLTK.'\n",
    "port_tokenizer.tokenize(port_text)"
   ]
  },
  {
   "cell_type": "markdown",
   "metadata": {},
   "source": [
    "There are some **project decisions** that you can make on **how to handle tokenization**. For instance, if you have the word *\"don't\"*, when tokenizing it on word-level, you could consider \"don't\" as one token, or as two tokens (\"do\", \"not\"), or even as three tokens (\"don\", \" ' \", 't'). Below you can find how NLTK is able to handle it.\n",
    "\n",
    "word_tokenize:"
   ]
  },
  {
   "cell_type": "code",
   "execution_count": 7,
   "metadata": {
    "colab": {
     "base_uri": "https://localhost:8080/",
     "height": 35
    },
    "colab_type": "code",
    "executionInfo": {
     "elapsed": 1201,
     "status": "ok",
     "timestamp": 1542481512280,
     "user": {
      "displayName": "Carlos Henrique Quartucci Forster",
      "photoUrl": "",
      "userId": "02137782012702851301"
     },
     "user_tz": 120
    },
    "id": "3ZTnsqWgAuh1",
    "outputId": "cbfbeb49-5db6-4baf-d1e2-6af05a35bbfd"
   },
   "outputs": [
    {
     "data": {
      "text/plain": [
       "['I', 'do', \"n't\", 'know', '.']"
      ]
     },
     "execution_count": 7,
     "metadata": {},
     "output_type": "execute_result"
    }
   ],
   "source": [
    "nltk.word_tokenize(\"I don't know.\")"
   ]
  },
  {
   "cell_type": "markdown",
   "metadata": {},
   "source": [
    "WordPunctTokenizer:"
   ]
  },
  {
   "cell_type": "code",
   "execution_count": 8,
   "metadata": {
    "colab": {
     "base_uri": "https://localhost:8080/",
     "height": 35
    },
    "colab_type": "code",
    "executionInfo": {
     "elapsed": 1607,
     "status": "ok",
     "timestamp": 1542481517011,
     "user": {
      "displayName": "Carlos Henrique Quartucci Forster",
      "photoUrl": "",
      "userId": "02137782012702851301"
     },
     "user_tz": 120
    },
    "id": "duNWRcvLBO3Q",
    "outputId": "1d4d44ec-6d4b-4f1d-c23b-195508b31cf6"
   },
   "outputs": [
    {
     "data": {
      "text/plain": [
       "['I', 'don', \"'\", 't', 'know', '.']"
      ]
     },
     "execution_count": 8,
     "metadata": {
      "tags": []
     },
     "output_type": "execute_result"
    }
   ],
   "source": [
    "from nltk.tokenize import WordPunctTokenizer\n",
    "tokenizer=WordPunctTokenizer()\n",
    "tokenizer.tokenize(\" I don't know.\")"
   ]
  },
  {
   "cell_type": "markdown",
   "metadata": {},
   "source": [
    "Traditional Split:"
   ]
  },
  {
   "cell_type": "code",
   "execution_count": 9,
   "metadata": {
    "colab": {
     "base_uri": "https://localhost:8080/",
     "height": 35
    },
    "colab_type": "code",
    "executionInfo": {
     "elapsed": 1622,
     "status": "ok",
     "timestamp": 1542481520270,
     "user": {
      "displayName": "Carlos Henrique Quartucci Forster",
      "photoUrl": "",
      "userId": "02137782012702851301"
     },
     "user_tz": 120
    },
    "id": "VE1TYrMzBjQB",
    "outputId": "33fc2618-37cf-4fbc-fbea-2393831ad048",
    "scrolled": true
   },
   "outputs": [
    {
     "data": {
      "text/plain": [
       "['I', \"don't\", 'know']"
      ]
     },
     "execution_count": 9,
     "metadata": {
      "tags": []
     },
     "output_type": "execute_result"
    }
   ],
   "source": [
    "\"I don't know\".split()"
   ]
  },
  {
   "cell_type": "markdown",
   "metadata": {
    "colab_type": "text",
    "id": "OVlOhoVzCHN5"
   },
   "source": [
    "## Text Normalization <a id='text_normalization'></a>\n",
    "\n",
    "Cleaning your text will often be necessary in order to make the right information get through. \n",
    "\n",
    "Applying both sentence and word-level tokenization:"
   ]
  },
  {
   "cell_type": "code",
   "execution_count": 10,
   "metadata": {
    "colab": {
     "base_uri": "https://localhost:8080/",
     "height": 293
    },
    "colab_type": "code",
    "executionInfo": {
     "elapsed": 801,
     "status": "ok",
     "timestamp": 1542481524906,
     "user": {
      "displayName": "Carlos Henrique Quartucci Forster",
      "photoUrl": "",
      "userId": "02137782012702851301"
     },
     "user_tz": 120
    },
    "id": "G4zxzEu_CDD4",
    "outputId": "1cfbdde5-12fe-4d1d-d646-b98846ea2e8c"
   },
   "outputs": [
    {
     "data": {
      "text/plain": [
       "[['Welcome', 'students', '.'],\n",
       " ['NLP', 'is', 'an', 'interesting', 'subject', '.'],\n",
       " ['However',\n",
       "  ',',\n",
       "  'knowledge',\n",
       "  'about',\n",
       "  'many',\n",
       "  'things',\n",
       "  'is',\n",
       "  'needed',\n",
       "  'to',\n",
       "  'achieve',\n",
       "  'full',\n",
       "  'undestanding',\n",
       "  '.']]"
      ]
     },
     "execution_count": 10,
     "metadata": {
      "tags": []
     },
     "output_type": "execute_result"
    }
   ],
   "source": [
    "[nltk.word_tokenize(a) for a in sent_tokenize(text)]"
   ]
  },
  {
   "cell_type": "markdown",
   "metadata": {},
   "source": [
    "It's a **common practice to make everything lowercase**, this way if \"welcome\" is typed \"Welcome\" or \"WeLcOmE\" it will still become the same token."
   ]
  },
  {
   "cell_type": "code",
   "execution_count": 11,
   "metadata": {
    "colab": {
     "base_uri": "https://localhost:8080/",
     "height": 35
    },
    "colab_type": "code",
    "executionInfo": {
     "elapsed": 939,
     "status": "ok",
     "timestamp": 1542481529317,
     "user": {
      "displayName": "Carlos Henrique Quartucci Forster",
      "photoUrl": "",
      "userId": "02137782012702851301"
     },
     "user_tz": 120
    },
    "id": "pjxabZ8qEslA",
    "outputId": "0e08b272-973b-4596-de95-194342a5f6a7"
   },
   "outputs": [
    {
     "data": {
      "text/plain": [
       "'welcome students. nlp is an interesting subject. however, knowledge about many things is needed to achieve full undestanding.'"
      ]
     },
     "execution_count": 11,
     "metadata": {
      "tags": []
     },
     "output_type": "execute_result"
    }
   ],
   "source": [
    "text.lower()"
   ]
  },
  {
   "cell_type": "markdown",
   "metadata": {},
   "source": [
    "**Many words don't have much semantic meaning**, such as [\"a\", \"the\", \"is\"]. They are named **'stopwords'**. In many applications it may be useful to *remove* stopwords."
   ]
  },
  {
   "cell_type": "code",
   "execution_count": 12,
   "metadata": {
    "colab": {
     "base_uri": "https://localhost:8080/",
     "height": 329
    },
    "colab_type": "code",
    "executionInfo": {
     "elapsed": 736,
     "status": "ok",
     "timestamp": 1542481533515,
     "user": {
      "displayName": "Carlos Henrique Quartucci Forster",
      "photoUrl": "",
      "userId": "02137782012702851301"
     },
     "user_tz": 120
    },
    "id": "nmkjsdPjEx85",
    "outputId": "b2c7b5b7-a225-4d0a-b15b-41e3e1ef3522"
   },
   "outputs": [
    {
     "data": {
      "text/plain": [
       "['Welcome',\n",
       " 'students',\n",
       " '.',\n",
       " 'NLP',\n",
       " 'interesting',\n",
       " 'subject',\n",
       " '.',\n",
       " 'However',\n",
       " ',',\n",
       " 'knowledge',\n",
       " 'many',\n",
       " 'things',\n",
       " 'needed',\n",
       " 'achieve',\n",
       " 'full',\n",
       " 'undestanding',\n",
       " '.']"
      ]
     },
     "execution_count": 12,
     "metadata": {
      "tags": []
     },
     "output_type": "execute_result"
    }
   ],
   "source": [
    "from nltk.corpus import stopwords\n",
    "\n",
    "stops=set(stopwords.words('english'))\n",
    "words=nltk.word_tokenize(text)\n",
    "[word for word in words if word not in stops]"
   ]
  },
  {
   "cell_type": "markdown",
   "metadata": {},
   "source": [
    "Each language has it own stopwords list, that can be used throught nltk like this:"
   ]
  },
  {
   "cell_type": "code",
   "execution_count": 13,
   "metadata": {
    "colab": {
     "base_uri": "https://localhost:8080/",
     "height": 219
    },
    "colab_type": "code",
    "executionInfo": {
     "elapsed": 631,
     "status": "ok",
     "timestamp": 1542481538726,
     "user": {
      "displayName": "Carlos Henrique Quartucci Forster",
      "photoUrl": "",
      "userId": "02137782012702851301"
     },
     "user_tz": 120
    },
    "id": "kIhc9q3vGHHI",
    "outputId": "905196e4-8f9b-46af-c768-4528e382b1fe"
   },
   "outputs": [
    {
     "data": {
      "text/plain": [
       "['Este',\n",
       " 'texto',\n",
       " 'português',\n",
       " 'é',\n",
       " '``',\n",
       " 'tokenizado',\n",
       " \"''\",\n",
       " '.',\n",
       " 'Cortesia',\n",
       " 'NLTK',\n",
       " '.']"
      ]
     },
     "execution_count": 13,
     "metadata": {
      "tags": []
     },
     "output_type": "execute_result"
    }
   ],
   "source": [
    "from nltk.corpus import stopwords\n",
    "stops=set(stopwords.words('portuguese'))\n",
    "words=nltk.word_tokenize(port_text)\n",
    "[word for word in words if word not in stops]"
   ]
  },
  {
   "cell_type": "markdown",
   "metadata": {},
   "source": [
    "You can check out what's the stopword list and you are able to adapt it to your application needs."
   ]
  },
  {
   "cell_type": "code",
   "execution_count": 14,
   "metadata": {
    "colab": {
     "base_uri": "https://localhost:8080/",
     "height": 146
    },
    "colab_type": "code",
    "executionInfo": {
     "elapsed": 681,
     "status": "ok",
     "timestamp": 1542481543049,
     "user": {
      "displayName": "Carlos Henrique Quartucci Forster",
      "photoUrl": "",
      "userId": "02137782012702851301"
     },
     "user_tz": 120
    },
    "id": "u24BCYqhGbma",
    "outputId": "1a2ce561-e575-4bbf-b677-8e865c0ae75f"
   },
   "outputs": [
    {
     "data": {
      "text/plain": [
       "[['de', 'a', 'o', 'que', 'e', 'do', 'da', 'em'],\n",
       " ['para', 'com', 'não', 'uma', 'os', 'no', 'se', 'na'],\n",
       " ['mais', 'as', 'dos', 'como', 'mas', 'ao', 'ele', 'das'],\n",
       " ['seu', 'sua', 'ou', 'quando', 'muito', 'nos', 'já', 'eu'],\n",
       " ['só', 'pelo', 'pela', 'até', 'isso', 'ela', 'entre', 'depois'],\n",
       " ['mesmo', 'aos', 'seus', 'quem', 'nas', 'me', 'esse', 'eles'],\n",
       " ['essa', 'num', 'nem', 'suas', 'meu', 'às', 'minha', 'numa']]"
      ]
     },
     "execution_count": 14,
     "metadata": {
      "tags": []
     },
     "output_type": "execute_result"
    }
   ],
   "source": [
    "w=stopwords.words('portuguese')\n",
    "[[w[i+k*8] for i in range(k,k+8)] for k in range(7)]"
   ]
  },
  {
   "cell_type": "markdown",
   "metadata": {
    "colab_type": "text",
    "id": "4K1mdKCeQfyy"
   },
   "source": [
    "**Stemming** is another text normalization technique. It's the process of reducing inflected or derived words to their root form. This way [\"work\", \"working\", \"worked\"] will all be all represented identically (as \"work\")."
   ]
  },
  {
   "cell_type": "code",
   "execution_count": 32,
   "metadata": {
    "colab": {
     "base_uri": "https://localhost:8080/",
     "height": 35
    },
    "colab_type": "code",
    "executionInfo": {
     "elapsed": 1439,
     "status": "ok",
     "timestamp": 1542481569909,
     "user": {
      "displayName": "Carlos Henrique Quartucci Forster",
      "photoUrl": "",
      "userId": "02137782012702851301"
     },
     "user_tz": 120
    },
    "id": "yh5vLVnUQi9F",
    "outputId": "cfa893df-f323-4a29-cd06-0e506cbf79f2"
   },
   "outputs": [
    {
     "data": {
      "text/plain": [
       "'work'"
      ]
     },
     "execution_count": 32,
     "metadata": {},
     "output_type": "execute_result"
    }
   ],
   "source": [
    "from nltk.stem import PorterStemmer\n",
    "stemmerporter = PorterStemmer()\n",
    "stemmerporter.stem('working')"
   ]
  },
  {
   "cell_type": "code",
   "execution_count": 33,
   "metadata": {
    "colab": {
     "base_uri": "https://localhost:8080/",
     "height": 35
    },
    "colab_type": "code",
    "executionInfo": {
     "elapsed": 702,
     "status": "ok",
     "timestamp": 1542481574045,
     "user": {
      "displayName": "Carlos Henrique Quartucci Forster",
      "photoUrl": "",
      "userId": "02137782012702851301"
     },
     "user_tz": 120
    },
    "id": "J1knE6AdQy1p",
    "outputId": "0745f14c-7bda-4c22-f3e8-d1be4bc2d2c7"
   },
   "outputs": [
    {
     "data": {
      "text/plain": [
       "'happi'"
      ]
     },
     "execution_count": 33,
     "metadata": {},
     "output_type": "execute_result"
    }
   ],
   "source": [
    "stemmerporter.stem('happiness')"
   ]
  },
  {
   "cell_type": "code",
   "execution_count": 34,
   "metadata": {
    "colab": {
     "base_uri": "https://localhost:8080/",
     "height": 35
    },
    "colab_type": "code",
    "executionInfo": {
     "elapsed": 702,
     "status": "ok",
     "timestamp": 1542481574045,
     "user": {
      "displayName": "Carlos Henrique Quartucci Forster",
      "photoUrl": "",
      "userId": "02137782012702851301"
     },
     "user_tz": 120
    },
    "id": "J1knE6AdQy1p",
    "outputId": "0745f14c-7bda-4c22-f3e8-d1be4bc2d2c7"
   },
   "outputs": [
    {
     "data": {
      "text/plain": [
       "'happi'"
      ]
     },
     "execution_count": 34,
     "metadata": {},
     "output_type": "execute_result"
    }
   ],
   "source": [
    "stemmerporter.stem('happy')"
   ]
  },
  {
   "cell_type": "code",
   "execution_count": 23,
   "metadata": {
    "colab": {
     "base_uri": "https://localhost:8080/",
     "height": 35
    },
    "colab_type": "code",
    "executionInfo": {
     "elapsed": 703,
     "status": "ok",
     "timestamp": 1542481576109,
     "user": {
      "displayName": "Carlos Henrique Quartucci Forster",
      "photoUrl": "",
      "userId": "02137782012702851301"
     },
     "user_tz": 120
    },
    "id": "ZvP8fzLcRKDQ",
    "outputId": "e20a28c5-6c35-49a2-9c00-56b647aab7dd"
   },
   "outputs": [
    {
     "data": {
      "text/plain": [
       "'sensat'"
      ]
     },
     "execution_count": 23,
     "metadata": {
      "tags": []
     },
     "output_type": "execute_result"
    }
   ],
   "source": [
    "stemmerporter.stem('sensation')"
   ]
  },
  {
   "cell_type": "markdown",
   "metadata": {},
   "source": [
    "NLTK also provides other stemming techniques, like LancasterStemmer."
   ]
  },
  {
   "cell_type": "code",
   "execution_count": 24,
   "metadata": {
    "colab": {
     "base_uri": "https://localhost:8080/",
     "height": 35
    },
    "colab_type": "code",
    "executionInfo": {
     "elapsed": 740,
     "status": "ok",
     "timestamp": 1542481578190,
     "user": {
      "displayName": "Carlos Henrique Quartucci Forster",
      "photoUrl": "",
      "userId": "02137782012702851301"
     },
     "user_tz": 120
    },
    "id": "h02D2H0BRUUb",
    "outputId": "52010318-7318-4713-9195-8fa89c5cb1f6"
   },
   "outputs": [
    {
     "data": {
      "text/plain": [
       "('sens', 'happy', 'work')"
      ]
     },
     "execution_count": 24,
     "metadata": {
      "tags": []
     },
     "output_type": "execute_result"
    }
   ],
   "source": [
    "stemmerlan=nltk.stem.LancasterStemmer()\n",
    "stemmerlan.stem('sensation'), stemmerlan.stem('happiness'), stemmerlan.stem('working')"
   ]
  },
  {
   "cell_type": "markdown",
   "metadata": {},
   "source": [
    "and also SnowBallStemmer."
   ]
  },
  {
   "cell_type": "code",
   "execution_count": 26,
   "metadata": {
    "colab": {
     "base_uri": "https://localhost:8080/",
     "height": 35
    },
    "colab_type": "code",
    "executionInfo": {
     "elapsed": 719,
     "status": "ok",
     "timestamp": 1542481600048,
     "user": {
      "displayName": "Carlos Henrique Quartucci Forster",
      "photoUrl": "",
      "userId": "02137782012702851301"
     },
     "user_tz": 120
    },
    "id": "mDi1ZfUIR1Iv",
    "outputId": "8dbb5934-f224-47bd-cba1-ed504dbca1ea"
   },
   "outputs": [
    {
     "data": {
      "text/plain": [
       "['com', 'com', 'alegr', 'trabalh', 'sensaçã', 'sentiment']"
      ]
     },
     "execution_count": 26,
     "metadata": {
      "tags": []
     },
     "output_type": "execute_result"
    }
   ],
   "source": [
    "from nltk.stem import SnowballStemmer as snow\n",
    "sstem=snow('portuguese')\n",
    "[sstem.stem(x) for x in \"comendo comida alegria trabalhismo sensação sentimento\".split()]"
   ]
  },
  {
   "cell_type": "markdown",
   "metadata": {},
   "source": [
    "an important thing to ask is: what are the major difference between these three stemmers?\n",
    "\n",
    "- **Porter:** Very gentle stemmer. It is also the most computationally intensive of the algorithms (Granted not by a very significant margin). It is also the oldest stemming algorithm.\n",
    "\n",
    "- **Lancaster:** Very aggressive stemming algorithm, sometimes to a fault. The representations in lancaster are not as intuitive as in the other two, and short words might become totally obfuscated. It this the fastest algorithm between the three, and reduces your working set of words hugely (which comes at the price of less distinction of words).\n",
    "\n",
    "- **SnowBall** *(also known as Porter2)*: It is an improvement over porter, with slightly faster computation time. This will almost always be the go-to if you are not sure which one to use."
   ]
  },
  {
   "cell_type": "markdown",
   "metadata": {
    "colab_type": "text",
    "id": "NhAqWrgRSwR0"
   },
   "source": [
    "**Lemmatization**\n",
    "\n",
    "It is similar to the Stemming process, but Lemmatization tries to process the words with the use of vocabulary and morphological analysis. For instance, stemming \"meeting\" retrieves \"meet\" since it is the root of the word. However, \"meeting\" could also be treated as a noun instead of a verb (like \"in our last meeting\"), and the lemmatization will preserve the token as \"meeting\", as you can observe below:"
   ]
  },
  {
   "cell_type": "code",
   "execution_count": 38,
   "metadata": {},
   "outputs": [
    {
     "data": {
      "text/plain": [
       "'meet'"
      ]
     },
     "execution_count": 38,
     "metadata": {},
     "output_type": "execute_result"
    }
   ],
   "source": [
    "stemmerporter.stem('meeting')"
   ]
  },
  {
   "cell_type": "code",
   "execution_count": 37,
   "metadata": {
    "colab": {
     "base_uri": "https://localhost:8080/",
     "height": 35
    },
    "colab_type": "code",
    "executionInfo": {
     "elapsed": 3100,
     "status": "ok",
     "timestamp": 1542481622657,
     "user": {
      "displayName": "Carlos Henrique Quartucci Forster",
      "photoUrl": "",
      "userId": "02137782012702851301"
     },
     "user_tz": 120
    },
    "id": "cDvMbey0Sy2g",
    "outputId": "dffd7198-92ec-4b4f-e70f-7e535e0fe38a"
   },
   "outputs": [
    {
     "data": {
      "text/plain": [
       "'meeting'"
      ]
     },
     "execution_count": 37,
     "metadata": {},
     "output_type": "execute_result"
    }
   ],
   "source": [
    "import nltk\n",
    "from nltk.stem import WordNetLemmatizer\n",
    "\n",
    "lemmatizer_output=WordNetLemmatizer()\n",
    "lemmatizer_output.lemmatize('meeting')"
   ]
  },
  {
   "cell_type": "code",
   "execution_count": 28,
   "metadata": {
    "colab": {
     "base_uri": "https://localhost:8080/",
     "height": 164
    },
    "colab_type": "code",
    "executionInfo": {
     "elapsed": 722,
     "status": "ok",
     "timestamp": 1542481625544,
     "user": {
      "displayName": "Carlos Henrique Quartucci Forster",
      "photoUrl": "",
      "userId": "02137782012702851301"
     },
     "user_tz": 120
    },
    "id": "9U2G8nuBTJng",
    "outputId": "d46dda94-2e16-44c7-e4b3-e306626764db"
   },
   "outputs": [
    {
     "data": {
      "text/plain": [
       "['working',\n",
       " 'work',\n",
       " 'unhappiness',\n",
       " 'sensation',\n",
       " 'sentiment',\n",
       " 'journey',\n",
       " 'journal',\n",
       " 'information']"
      ]
     },
     "execution_count": 28,
     "metadata": {
      "tags": []
     },
     "output_type": "execute_result"
    }
   ],
   "source": [
    "[lemmatizer_output.lemmatize(x, pos=\"n\") for x in \"working works unhappiness sensation sentiment journey journal information\".split()]"
   ]
  },
  {
   "cell_type": "markdown",
   "metadata": {
    "colab": {},
    "colab_type": "code",
    "id": "41tGwEzUOiRH"
   },
   "source": [
    "Handling **spellchecking** is another text normalization task that, depending on your application, may be necessary. You can come across words missing spaces, flipped characters and much more."
   ]
  },
  {
   "cell_type": "code",
   "execution_count": null,
   "metadata": {},
   "outputs": [],
   "source": [
    "# !apt-get install aspell-pt # package for GNU spellchecker (in portuguese)\n",
    "# !apt-get install enchant # spellchecking software\n",
    "# !pip install pyenchant # spellchecking library for python"
   ]
  },
  {
   "cell_type": "code",
   "execution_count": null,
   "metadata": {},
   "outputs": [],
   "source": [
    "import enchant\n",
    "\n",
    "s=enchant.Dict(\"en_US\")\n",
    "tok=[]\n",
    "def tokenize(st1):\n",
    "  if not st1:return\n",
    "  for j in range(len(st1),-1,-1):\n",
    "    if s.check(st1[0:j]):\n",
    "      tok.append(st1[0:j])\n",
    "      st1=st1[j:]\n",
    "      tokenize(st1)\n",
    "      break\n",
    "  return tok\n",
    "\n",
    "tokenize(\"whatistheproblemwiththisbook\")"
   ]
  },
  {
   "cell_type": "code",
   "execution_count": 32,
   "metadata": {
    "colab": {
     "base_uri": "https://localhost:8080/",
     "height": 293
    },
    "colab_type": "code",
    "executionInfo": {
     "elapsed": 798,
     "status": "ok",
     "timestamp": 1542481664162,
     "user": {
      "displayName": "Carlos Henrique Quartucci Forster",
      "photoUrl": "",
      "userId": "02137782012702851301"
     },
     "user_tz": 120
    },
    "id": "05AxR1uidcy6",
    "outputId": "decf116d-79bf-4ede-99f8-36d41500a61f"
   },
   "outputs": [
    {
     "data": {
      "text/plain": [
       "['probe',\n",
       " 'pron',\n",
       " 'pone',\n",
       " 'prose',\n",
       " 'prole',\n",
       " 'crone',\n",
       " 'drone',\n",
       " 'prune',\n",
       " 'prong',\n",
       " 'phone',\n",
       " 'prove',\n",
       " 'krone',\n",
       " 'pr one',\n",
       " 'pr-one',\n",
       " 'pron e']"
      ]
     },
     "execution_count": 32,
     "metadata": {
      "tags": []
     },
     "output_type": "execute_result"
    }
   ],
   "source": [
    "s.suggest('prone')"
   ]
  },
  {
   "cell_type": "markdown",
   "metadata": {},
   "source": [
    "Also available in other languages (if you download it):"
   ]
  },
  {
   "cell_type": "code",
   "execution_count": 33,
   "metadata": {
    "colab": {
     "base_uri": "https://localhost:8080/",
     "height": 72
    },
    "colab_type": "code",
    "executionInfo": {
     "elapsed": 1313,
     "status": "ok",
     "timestamp": 1542481668629,
     "user": {
      "displayName": "Carlos Henrique Quartucci Forster",
      "photoUrl": "",
      "userId": "02137782012702851301"
     },
     "user_tz": 120
    },
    "id": "dfXES8UWfEe_",
    "outputId": "652bdb73-884c-4355-e59d-65c3a3d1b941",
    "scrolled": true
   },
   "outputs": [
    {
     "data": {
      "text/plain": [
       "[('en_US', <Enchant: Myspell Provider>),\n",
       " ('pt_BR', <Enchant: Aspell Provider>),\n",
       " ('pt_PT', <Enchant: Aspell Provider>)]"
      ]
     },
     "execution_count": 33,
     "metadata": {
      "tags": []
     },
     "output_type": "execute_result"
    }
   ],
   "source": [
    "enchant.list_dicts()"
   ]
  },
  {
   "cell_type": "code",
   "execution_count": 34,
   "metadata": {
    "colab": {
     "base_uri": "https://localhost:8080/",
     "height": 274
    },
    "colab_type": "code",
    "executionInfo": {
     "elapsed": 781,
     "status": "ok",
     "timestamp": 1542481673150,
     "user": {
      "displayName": "Carlos Henrique Quartucci Forster",
      "photoUrl": "",
      "userId": "02137782012702851301"
     },
     "user_tz": 120
    },
    "id": "EvtcFPrZO4ir",
    "outputId": "5b96b2b2-eba0-49cc-f7e4-b74ac795a6f2"
   },
   "outputs": [
    {
     "data": {
      "text/plain": [
       "['eu',\n",
       " 'não',\n",
       " 'tenho',\n",
       " 'ameno',\n",
       " 'ri',\n",
       " 'd',\n",
       " 'é',\n",
       " 'ia',\n",
       " 'de',\n",
       " 'como',\n",
       " 'se',\n",
       " 'separais',\n",
       " 's',\n",
       " 'o']"
      ]
     },
     "execution_count": 34,
     "metadata": {
      "tags": []
     },
     "output_type": "execute_result"
    }
   ],
   "source": [
    "s=enchant.Dict(\"pt_BR\")\n",
    "tok=[]\n",
    "def tokenize(st1):\n",
    "  if not st1:return\n",
    "  for j in range(len(st1),-1,-1):\n",
    "    if s.check(st1[0:j]):\n",
    "      tok.append(st1[0:j])\n",
    "      st1=st1[j:]\n",
    "      tokenize(st1)\n",
    "      break\n",
    "  return tok\n",
    "\n",
    "tokenize(\"eunãotenhoamenoridéiadecomoseseparaisso\")"
   ]
  },
  {
   "cell_type": "markdown",
   "metadata": {
    "colab_type": "text",
    "id": "AOkNvDkMEpga"
   },
   "source": [
    "## Similarity <a id='similarity'></a>\n",
    "\n",
    "Calculating similarity between *tokens* is an important task. The type of calculation you use to compute the similarity might retrieve different interpretations.\n",
    "\n",
    "Since words can be stored as vectors, you could use **classification metrics** to evaluate how two vectors are similar:"
   ]
  },
  {
   "cell_type": "code",
   "execution_count": 24,
   "metadata": {
    "colab": {
     "base_uri": "https://localhost:8080/",
     "height": 35
    },
    "colab_type": "code",
    "executionInfo": {
     "elapsed": 802,
     "status": "ok",
     "timestamp": 1542481547678,
     "user": {
      "displayName": "Carlos Henrique Quartucci Forster",
      "photoUrl": "",
      "userId": "02137782012702851301"
     },
     "user_tz": 120
    },
    "id": "lzl8-GSwJbH4",
    "outputId": "202af4f9-9e53-4f1e-cc15-f6e8bf414ae5"
   },
   "outputs": [
    {
     "data": {
      "text/plain": [
       "(0.6, 1.0, 0.8)"
      ]
     },
     "execution_count": 24,
     "metadata": {},
     "output_type": "execute_result"
    }
   ],
   "source": [
    "from nltk.metrics import *\n",
    "\n",
    "a = [1, 2, 3, 4, 5]\n",
    "b = [1, 1, 2, 4, 5]\n",
    "\n",
    "accuracy(a,b), precision(set(a),set(b)), recall(set(a),set(b))"
   ]
  },
  {
   "cell_type": "markdown",
   "metadata": {},
   "source": [
    "A more direct way is to calculate the **edit distance** between two words. It represents the number of changes needed to modify one word and get to the other one (*insertions, removals and substitutions*)."
   ]
  },
  {
   "cell_type": "code",
   "execution_count": 16,
   "metadata": {
    "colab": {
     "base_uri": "https://localhost:8080/",
     "height": 35
    },
    "colab_type": "code",
    "executionInfo": {
     "elapsed": 1469,
     "status": "ok",
     "timestamp": 1542481551623,
     "user": {
      "displayName": "Carlos Henrique Quartucci Forster",
      "photoUrl": "",
      "userId": "02137782012702851301"
     },
     "user_tz": 120
    },
    "id": "U7s8-aoXKYct",
    "outputId": "287935e2-ffb8-4ded-987e-dbb236ecf08a"
   },
   "outputs": [
    {
     "data": {
      "text/plain": [
       "2"
      ]
     },
     "execution_count": 16,
     "metadata": {
      "tags": []
     },
     "output_type": "execute_result"
    }
   ],
   "source": [
    "edit_distance(\"amor\",\"ambar\")"
   ]
  },
  {
   "cell_type": "code",
   "execution_count": 18,
   "metadata": {
    "colab": {
     "base_uri": "https://localhost:8080/",
     "height": 35
    },
    "colab_type": "code",
    "executionInfo": {
     "elapsed": 814,
     "status": "ok",
     "timestamp": 1542481556035,
     "user": {
      "displayName": "Carlos Henrique Quartucci Forster",
      "photoUrl": "",
      "userId": "02137782012702851301"
     },
     "user_tz": 120
    },
    "id": "ZybnttrZKlPa",
    "outputId": "4814e215-772f-43d8-8a2e-d78457a8358c"
   },
   "outputs": [
    {
     "data": {
      "text/plain": [
       "4"
      ]
     },
     "execution_count": 18,
     "metadata": {},
     "output_type": "execute_result"
    }
   ],
   "source": [
    "edit_distance(\"sunday\",\"sydney\")"
   ]
  },
  {
   "cell_type": "markdown",
   "metadata": {},
   "source": [
    "**Jaccard distance** is used to compute the similarity and variety in two sets. It is the complement of the sets intersection size. (This way if you have two identical sets the jaccard distance will be zero). It is also important to note that this approach does not consider the element order (because it is operating with set-similarity)"
   ]
  },
  {
   "cell_type": "code",
   "execution_count": 25,
   "metadata": {
    "colab": {
     "base_uri": "https://localhost:8080/",
     "height": 35
    },
    "colab_type": "code",
    "executionInfo": {
     "elapsed": 811,
     "status": "ok",
     "timestamp": 1542481559248,
     "user": {
      "displayName": "Carlos Henrique Quartucci Forster",
      "photoUrl": "",
      "userId": "02137782012702851301"
     },
     "user_tz": 120
    },
    "id": "d_a0tzfqKxZI",
    "outputId": "ef32506b-fa34-4fec-b38d-582a98f5e14a"
   },
   "outputs": [
    {
     "data": {
      "text/plain": [
       "0.2"
      ]
     },
     "execution_count": 25,
     "metadata": {},
     "output_type": "execute_result"
    }
   ],
   "source": [
    "jaccard_distance(set(a),set(b))"
   ]
  },
  {
   "cell_type": "code",
   "execution_count": 27,
   "metadata": {},
   "outputs": [
    {
     "data": {
      "text/plain": [
       "0.0"
      ]
     },
     "execution_count": 27,
     "metadata": {},
     "output_type": "execute_result"
    }
   ],
   "source": [
    "jaccard_distance(set([1,2,3,4]), set([4,3,2,1]))"
   ]
  },
  {
   "cell_type": "markdown",
   "metadata": {},
   "source": [
    "A very simple distance is the **binary distance**. It simply checks whether the inputs are equal or not. (0 if identical, 1 if different)"
   ]
  },
  {
   "cell_type": "code",
   "execution_count": 19,
   "metadata": {
    "colab": {
     "base_uri": "https://localhost:8080/",
     "height": 35
    },
    "colab_type": "code",
    "executionInfo": {
     "elapsed": 710,
     "status": "ok",
     "timestamp": 1542481563194,
     "user": {
      "displayName": "Carlos Henrique Quartucci Forster",
      "photoUrl": "",
      "userId": "02137782012702851301"
     },
     "user_tz": 120
    },
    "id": "1U5DwabeLfIW",
    "outputId": "2ab22ae1-2d30-4b76-e507-9b19530f8d0b"
   },
   "outputs": [
    {
     "data": {
      "text/plain": [
       "1.0"
      ]
     },
     "execution_count": 19,
     "metadata": {
      "tags": []
     },
     "output_type": "execute_result"
    }
   ],
   "source": [
    "binary_distance([1,2,3],[1,4,5])"
   ]
  },
  {
   "cell_type": "code",
   "execution_count": 30,
   "metadata": {},
   "outputs": [
    {
     "data": {
      "text/plain": [
       "0.0"
      ]
     },
     "execution_count": 30,
     "metadata": {},
     "output_type": "execute_result"
    }
   ],
   "source": [
    "binary_distance([1,2,3],[1,2,3])"
   ]
  },
  {
   "cell_type": "markdown",
   "metadata": {},
   "source": [
    "**Masi distance** is also a set-based technique that will take partial agreement when multiple labels are assigned. ([Paper](http://www.cs.columbia.edu/nlp/papers/2006/passonneau_06.pdf))\n",
    "\n",
    "It is computed following the formula:\n",
    "\n",
    "<center>1 - (len_intersection / len_union) * m</center>"
   ]
  },
  {
   "cell_type": "code",
   "execution_count": 31,
   "metadata": {
    "colab": {
     "base_uri": "https://localhost:8080/",
     "height": 35
    },
    "colab_type": "code",
    "executionInfo": {
     "elapsed": 824,
     "status": "ok",
     "timestamp": 1542481565158,
     "user": {
      "displayName": "Carlos Henrique Quartucci Forster",
      "photoUrl": "",
      "userId": "02137782012702851301"
     },
     "user_tz": 120
    },
    "id": "MOwKMvI8MCki",
    "outputId": "ccb6dbff-8178-4aea-ba99-4f696e1aab1b",
    "scrolled": true
   },
   "outputs": [
    {
     "data": {
      "text/plain": [
       "0.46399999999999997"
      ]
     },
     "execution_count": 31,
     "metadata": {},
     "output_type": "execute_result"
    }
   ],
   "source": [
    "masi_distance(set(a),set(b))"
   ]
  },
  {
   "cell_type": "markdown",
   "metadata": {
    "colab_type": "text",
    "id": "5mDr-DPjXZcf"
   },
   "source": [
    "## POS Tagging <a id='pos_tagging'></a>\n",
    "\n",
    "POS stands for **Part-of-Speech**.  POS Tagging is used to assign tags to parts-of-speeches (*a-ha!*) considering word relationship with adjacent and related words in the text. NLTK has a built-in module for pos-tagging:"
   ]
  },
  {
   "cell_type": "code",
   "execution_count": 36,
   "metadata": {
    "colab": {
     "base_uri": "https://localhost:8080/",
     "height": 127
    },
    "colab_type": "code",
    "executionInfo": {
     "elapsed": 887,
     "status": "ok",
     "timestamp": 1542481696981,
     "user": {
      "displayName": "Carlos Henrique Quartucci Forster",
      "photoUrl": "",
      "userId": "02137782012702851301"
     },
     "user_tz": 120
    },
    "id": "wGjb5NV3XdTJ",
    "outputId": "59b66f22-fdab-4545-e0ca-752776488273"
   },
   "outputs": [
    {
     "data": {
      "text/plain": [
       "[('It', 'PRP'),\n",
       " ('is', 'VBZ'),\n",
       " ('a', 'DT'),\n",
       " ('pleasant', 'JJ'),\n",
       " ('day', 'NN'),\n",
       " ('today', 'NN')]"
      ]
     },
     "execution_count": 36,
     "metadata": {
      "tags": []
     },
     "output_type": "execute_result"
    }
   ],
   "source": [
    "text1=nltk.word_tokenize(\"It is a pleasant day today\")\n",
    "nltk.pos_tag(text1)"
   ]
  },
  {
   "cell_type": "markdown",
   "metadata": {},
   "source": [
    "It assigned those tags, and you can check what each tag means through the code below:"
   ]
  },
  {
   "cell_type": "code",
   "execution_count": 37,
   "metadata": {
    "colab": {
     "base_uri": "https://localhost:8080/",
     "height": 90
    },
    "colab_type": "code",
    "executionInfo": {
     "elapsed": 2464,
     "status": "ok",
     "timestamp": 1542481701871,
     "user": {
      "displayName": "Carlos Henrique Quartucci Forster",
      "photoUrl": "",
      "userId": "02137782012702851301"
     },
     "user_tz": 120
    },
    "id": "Cshwrtt3X06J",
    "outputId": "5a135d16-d655-4503-b378-a95dabc2f008",
    "scrolled": true
   },
   "outputs": [
    {
     "name": "stdout",
     "output_type": "stream",
     "text": [
      "VBZ: verb, present tense, 3rd person singular\n",
      "    bases reconstructs marks mixes displeases seals carps weaves snatches\n",
      "    slumps stretches authorizes smolders pictures emerges stockpiles\n",
      "    seduces fizzes uses bolsters slaps speaks pleads ...\n"
     ]
    }
   ],
   "source": [
    "nltk.help.upenn_tagset('VBZ')"
   ]
  },
  {
   "cell_type": "code",
   "execution_count": 38,
   "metadata": {
    "colab": {
     "base_uri": "https://localhost:8080/",
     "height": 201
    },
    "colab_type": "code",
    "executionInfo": {
     "elapsed": 711,
     "status": "ok",
     "timestamp": 1542481705797,
     "user": {
      "displayName": "Carlos Henrique Quartucci Forster",
      "photoUrl": "",
      "userId": "02137782012702851301"
     },
     "user_tz": 120
    },
    "id": "KqjthWtdb6Sn",
    "outputId": "73a365cf-658e-496b-facf-88fd0c6e2b61"
   },
   "outputs": [
    {
     "data": {
      "text/plain": [
       "[('Now', 'RB'),\n",
       " (',', ','),\n",
       " ('I', 'PRP'),\n",
       " ('can', 'MD'),\n",
       " ('not', 'RB'),\n",
       " ('bear', 'VB'),\n",
       " ('the', 'DT'),\n",
       " ('pain', 'NN'),\n",
       " ('of', 'IN'),\n",
       " ('bear', 'NN')]"
      ]
     },
     "execution_count": 38,
     "metadata": {
      "tags": []
     },
     "output_type": "execute_result"
    }
   ],
   "source": [
    "nltk.pos_tag(nltk.word_tokenize(\"Now, I cannot bear the pain of bear\"))"
   ]
  },
  {
   "cell_type": "markdown",
   "metadata": {},
   "source": [
    "Other Taggers are available as well:"
   ]
  },
  {
   "cell_type": "code",
   "execution_count": 39,
   "metadata": {
    "colab": {
     "base_uri": "https://localhost:8080/",
     "height": 348
    },
    "colab_type": "code",
    "executionInfo": {
     "elapsed": 5605,
     "status": "ok",
     "timestamp": 1542481714196,
     "user": {
      "displayName": "Carlos Henrique Quartucci Forster",
      "photoUrl": "",
      "userId": "02137782012702851301"
     },
     "user_tz": 120
    },
    "id": "KA-95CFXf6UO",
    "outputId": "39900df6-da2c-4231-d4bd-d711b57e4c3a"
   },
   "outputs": [
    {
     "data": {
      "text/plain": [
       "['Pierre',\n",
       " 'Vinken',\n",
       " ',',\n",
       " '61',\n",
       " 'years',\n",
       " 'old',\n",
       " ',',\n",
       " 'will',\n",
       " 'join',\n",
       " 'the',\n",
       " 'board',\n",
       " 'as',\n",
       " 'a',\n",
       " 'nonexecutive',\n",
       " 'director',\n",
       " 'Nov.',\n",
       " '29',\n",
       " '.']"
      ]
     },
     "execution_count": 39,
     "metadata": {
      "tags": []
     },
     "output_type": "execute_result"
    }
   ],
   "source": [
    "from nltk.tag import BigramTagger\n",
    "from nltk.corpus import treebank\n",
    "training_1= treebank.tagged_sents()[:7000]\n",
    "bigramtagger=BigramTagger(training_1)\n",
    "treebank.sents()[0]"
   ]
  },
  {
   "cell_type": "code",
   "execution_count": 40,
   "metadata": {
    "colab": {
     "base_uri": "https://localhost:8080/",
     "height": 348
    },
    "colab_type": "code",
    "executionInfo": {
     "elapsed": 723,
     "status": "ok",
     "timestamp": 1542481721987,
     "user": {
      "displayName": "Carlos Henrique Quartucci Forster",
      "photoUrl": "",
      "userId": "02137782012702851301"
     },
     "user_tz": 120
    },
    "id": "81cRXGzogwOx",
    "outputId": "ec06c023-1775-4406-9297-2223ee5c89fb"
   },
   "outputs": [
    {
     "data": {
      "text/plain": [
       "[('Pierre', 'NNP'),\n",
       " ('Vinken', 'NNP'),\n",
       " (',', ','),\n",
       " ('61', 'CD'),\n",
       " ('years', 'NNS'),\n",
       " ('old', 'JJ'),\n",
       " (',', ','),\n",
       " ('will', 'MD'),\n",
       " ('join', 'VB'),\n",
       " ('the', 'DT'),\n",
       " ('board', 'NN'),\n",
       " ('as', 'IN'),\n",
       " ('a', 'DT'),\n",
       " ('nonexecutive', 'JJ'),\n",
       " ('director', 'NN'),\n",
       " ('Nov.', 'NNP'),\n",
       " ('29', 'CD'),\n",
       " ('.', '.')]"
      ]
     },
     "execution_count": 40,
     "metadata": {
      "tags": []
     },
     "output_type": "execute_result"
    }
   ],
   "source": [
    "bigramtagger.tag(treebank.sents()[0])"
   ]
  },
  {
   "cell_type": "code",
   "execution_count": 41,
   "metadata": {
    "colab": {
     "base_uri": "https://localhost:8080/",
     "height": 35
    },
    "colab_type": "code",
    "executionInfo": {
     "elapsed": 5230,
     "status": "ok",
     "timestamp": 1542481740688,
     "user": {
      "displayName": "Carlos Henrique Quartucci Forster",
      "photoUrl": "",
      "userId": "02137782012702851301"
     },
     "user_tz": 120
    },
    "id": "5scJD_Ykg4v_",
    "outputId": "d684ee8f-117d-4e53-dc9b-931f69f310fa"
   },
   "outputs": [
    {
     "data": {
      "text/plain": [
       "0.9171131227292321"
      ]
     },
     "execution_count": 41,
     "metadata": {
      "tags": []
     },
     "output_type": "execute_result"
    }
   ],
   "source": [
    "testing_1 = treebank.tagged_sents()[2000:]\n",
    "bigramtagger.evaluate(testing_1) #evaluate based on the ground truth"
   ]
  },
  {
   "cell_type": "markdown",
   "metadata": {},
   "source": [
    "You can then use the obtained tags with the text:"
   ]
  },
  {
   "cell_type": "code",
   "execution_count": 42,
   "metadata": {
    "colab": {
     "base_uri": "https://localhost:8080/",
     "height": 90
    },
    "colab_type": "code",
    "executionInfo": {
     "elapsed": 1721,
     "status": "ok",
     "timestamp": 1542481744355,
     "user": {
      "displayName": "Carlos Henrique Quartucci Forster",
      "photoUrl": "",
      "userId": "02137782012702851301"
     },
     "user_tz": 120
    },
    "id": "Ea7n38nvhqj5",
    "outputId": "5156aab2-b862-482f-97a1-a81db09ec759"
   },
   "outputs": [
    {
     "name": "stdout",
     "output_type": "stream",
     "text": [
      "(S\n",
      "  (NP A/DT wise/JJ small/JJ girl/NN of/IN village/NN)\n",
      "  became/VBD\n",
      "  (NP leader/NN))\n"
     ]
    }
   ],
   "source": [
    "sent=[(\"A\",\"DT\"),(\"wise\", \"JJ\"), (\"small\", \"JJ\"),(\"girl\", \"NN\"),\n",
    "(\"of\", \"IN\"), (\"village\", \"NN\"), (\"became\", \"VBD\"), (\"leader\", \"NN\")]\n",
    "grammar = \"NP: {<DT>?<JJ>*<NN><IN>?<NN>*}\"\n",
    "find = nltk.RegexpParser(grammar)\n",
    "res = find.parse(sent)\n",
    "print(res)"
   ]
  },
  {
   "cell_type": "markdown",
   "metadata": {},
   "source": [
    "And then you can also strucutre it as a graph:"
   ]
  },
  {
   "cell_type": "code",
   "execution_count": 43,
   "metadata": {
    "colab": {
     "base_uri": "https://localhost:8080/",
     "height": 439
    },
    "colab_type": "code",
    "executionInfo": {
     "elapsed": 1094,
     "status": "ok",
     "timestamp": 1542481748675,
     "user": {
      "displayName": "Carlos Henrique Quartucci Forster",
      "photoUrl": "",
      "userId": "02137782012702851301"
     },
     "user_tz": 120
    },
    "id": "N8u3jbKPjdEq",
    "outputId": "6d6716cb-c7b8-428b-db81-ec12faef96a5"
   },
   "outputs": [
    {
     "name": "stdout",
     "output_type": "stream",
     "text": [
      "digraph G {\n",
      "0[label=\"S\"];\n",
      "0->1;\n",
      "1[label=\"NP\"];\n",
      "1->2;\n",
      "2[label=\"A\\nDT\"];\n",
      "1->3;\n",
      "3[label=\"wise\\nJJ\"];\n",
      "1->4;\n",
      "4[label=\"small\\nJJ\"];\n",
      "1->5;\n",
      "5[label=\"girl\\nNN\"];\n",
      "1->6;\n",
      "6[label=\"of\\nIN\"];\n",
      "1->7;\n",
      "7[label=\"village\\nNN\"];\n",
      "0->8;\n",
      "8[label=\"became\\nVBD\"];\n",
      "0->9;\n",
      "9[label=\"NP\"];\n",
      "9->10;\n",
      "10[label=\"leader\\nNN\"];\n",
      "}\n"
     ]
    }
   ],
   "source": [
    "node=0\n",
    "\n",
    "def graph_tree(tree):\n",
    "  global node\n",
    "  node=0\n",
    "  def graf(tree):\n",
    "    global node\n",
    "    outs=\"\"\n",
    "    if type(tree)==nltk.tree.Tree:\n",
    "      s=str(node)\n",
    "      node += 1\n",
    "      outs += s+'[label=\"'+tree.label()+'\"];\\n'\n",
    "      for c in tree:\n",
    "        outs += s+\"->\"+str(node)+\";\\n\"\n",
    "        outs += graf(c)\n",
    "    else:\n",
    "      s=str(node)\n",
    "      node += 1\n",
    "      outs += s+'[label=\"'+str(tree[0])+'\\\\n'+str(tree[1])+'\"];\\n'\n",
    "    return outs\n",
    "  \n",
    "  return \"digraph G {\\n\"+graf(tree)+\"}\"\n",
    "\n",
    "\n",
    "g=graph_tree(res)\n",
    "print(g)"
   ]
  },
  {
   "cell_type": "markdown",
   "metadata": {
    "colab_type": "text",
    "id": "p49kSSy9XCFS"
   },
   "source": [
    "## WordNet <a id='wordnet'></a>\n",
    "\n",
    "WordNet is a lexical database for english. It was already used by multiple analysis approaches and then you can use their work to process other texts.\n",
    "\n",
    "For instance, you can use it to find **synonms.** In particular it uses \"Synsets\", that is a set of synonyms that should be interchangeable."
   ]
  },
  {
   "cell_type": "code",
   "execution_count": 48,
   "metadata": {
    "colab": {
     "base_uri": "https://localhost:8080/",
     "height": 201
    },
    "colab_type": "code",
    "executionInfo": {
     "elapsed": 455,
     "status": "ok",
     "timestamp": 1542481795415,
     "user": {
      "displayName": "Carlos Henrique Quartucci Forster",
      "photoUrl": "",
      "userId": "02137782012702851301"
     },
     "user_tz": 120
    },
    "id": "94WIrsuNXKrH",
    "outputId": "43d04af0-fc58-48f8-a1c1-292e06ed5876"
   },
   "outputs": [
    {
     "data": {
      "text/plain": [
       "[Synset('cat.n.01'),\n",
       " Synset('guy.n.01'),\n",
       " Synset('cat.n.03'),\n",
       " Synset('kat.n.01'),\n",
       " Synset('cat-o'-nine-tails.n.01'),\n",
       " Synset('caterpillar.n.02'),\n",
       " Synset('big_cat.n.01'),\n",
       " Synset('computerized_tomography.n.01'),\n",
       " Synset('cat.v.01'),\n",
       " Synset('vomit.v.01')]"
      ]
     },
     "execution_count": 48,
     "metadata": {
      "tags": []
     },
     "output_type": "execute_result"
    }
   ],
   "source": [
    "from nltk.corpus import wordnet as wn\n",
    "\n",
    "wn.synsets('cat')"
   ]
  },
  {
   "cell_type": "code",
   "execution_count": 49,
   "metadata": {
    "colab": {
     "base_uri": "https://localhost:8080/",
     "height": 35
    },
    "colab_type": "code",
    "executionInfo": {
     "elapsed": 808,
     "status": "ok",
     "timestamp": 1542481798406,
     "user": {
      "displayName": "Carlos Henrique Quartucci Forster",
      "photoUrl": "",
      "userId": "02137782012702851301"
     },
     "user_tz": 120
    },
    "id": "oZzzWyA4g5h4",
    "outputId": "606decac-ffef-4a37-edc5-186fc012a1eb"
   },
   "outputs": [
    {
     "data": {
      "text/plain": [
       "[Synset('flake.v.01'), Synset('flake.v.02'), Synset('peel_off.v.04')]"
      ]
     },
     "execution_count": 49,
     "metadata": {
      "tags": []
     },
     "output_type": "execute_result"
    }
   ],
   "source": [
    "wn.synsets('flake',pos=wn.VERB)"
   ]
  },
  {
   "cell_type": "code",
   "execution_count": 50,
   "metadata": {
    "colab": {
     "base_uri": "https://localhost:8080/",
     "height": 35
    },
    "colab_type": "code",
    "executionInfo": {
     "elapsed": 1906,
     "status": "ok",
     "timestamp": 1542481802527,
     "user": {
      "displayName": "Carlos Henrique Quartucci Forster",
      "photoUrl": "",
      "userId": "02137782012702851301"
     },
     "user_tz": 120
    },
    "id": "cpDXgzGUhTZz",
    "outputId": "962dc15c-3e27-4581-f462-f4837d5027d6"
   },
   "outputs": [
    {
     "data": {
      "text/plain": [
       "'cover with flakes or as if with flakes'"
      ]
     },
     "execution_count": 50,
     "metadata": {
      "tags": []
     },
     "output_type": "execute_result"
    }
   ],
   "source": [
    "wn.synset('flake.v.02').definition()"
   ]
  },
  {
   "cell_type": "code",
   "execution_count": 51,
   "metadata": {
    "colab": {
     "base_uri": "https://localhost:8080/",
     "height": 35
    },
    "colab_type": "code",
    "executionInfo": {
     "elapsed": 1316,
     "status": "ok",
     "timestamp": 1542481804979,
     "user": {
      "displayName": "Carlos Henrique Quartucci Forster",
      "photoUrl": "",
      "userId": "02137782012702851301"
     },
     "user_tz": 120
    },
    "id": "GTUQ8Brghj4m",
    "outputId": "125175e1-a11b-4ed4-8a6b-85f450d58e5d"
   },
   "outputs": [
    {
     "data": {
      "text/plain": [
       "['The substances started to flake']"
      ]
     },
     "execution_count": 51,
     "metadata": {
      "tags": []
     },
     "output_type": "execute_result"
    }
   ],
   "source": [
    "wn.synset('flake.v.01').examples()"
   ]
  },
  {
   "cell_type": "code",
   "execution_count": 52,
   "metadata": {
    "colab": {
     "base_uri": "https://localhost:8080/",
     "height": 127
    },
    "colab_type": "code",
    "executionInfo": {
     "elapsed": 1592,
     "status": "ok",
     "timestamp": 1542481808484,
     "user": {
      "displayName": "Carlos Henrique Quartucci Forster",
      "photoUrl": "",
      "userId": "02137782012702851301"
     },
     "user_tz": 120
    },
    "id": "-qrvs8j5iDRT",
    "outputId": "d55dadc4-42ea-48cd-946a-c32dd9469559"
   },
   "outputs": [
    {
     "data": {
      "text/plain": [
       "[Lemma('cat.n.01.bichano'),\n",
       " Lemma('cat.n.01.gata'),\n",
       " Lemma('cat.n.01.gato'),\n",
       " Lemma('cat.n.01.gato-doméstico'),\n",
       " Lemma('cat.n.01.Gato_doméstico'),\n",
       " Lemma('cat.n.01.Gato-doméstico')]"
      ]
     },
     "execution_count": 52,
     "metadata": {
      "tags": []
     },
     "output_type": "execute_result"
    }
   ],
   "source": [
    "wn.synset('cat.n.01').lemmas('por')"
   ]
  },
  {
   "cell_type": "code",
   "execution_count": 53,
   "metadata": {
    "colab": {
     "base_uri": "https://localhost:8080/",
     "height": 90
    },
    "colab_type": "code",
    "executionInfo": {
     "elapsed": 726,
     "status": "ok",
     "timestamp": 1542481812030,
     "user": {
      "displayName": "Carlos Henrique Quartucci Forster",
      "photoUrl": "",
      "userId": "02137782012702851301"
     },
     "user_tz": 120
    },
    "id": "x1zRq6P4ikFG",
    "outputId": "7033f09d-0445-47f3-954b-dcf026943cc8"
   },
   "outputs": [
    {
     "data": {
      "text/plain": [
       "[Synset('beach_wagon.n.01'),\n",
       " Synset('car.n.01'),\n",
       " Synset('car.n.02'),\n",
       " Synset('cart.n.01')]"
      ]
     },
     "execution_count": 53,
     "metadata": {
      "tags": []
     },
     "output_type": "execute_result"
    }
   ],
   "source": [
    "wn.synsets('carro',lang='por')"
   ]
  },
  {
   "cell_type": "markdown",
   "metadata": {},
   "source": [
    "And even **hypernyms**! (Which are superordinate, like \"Musical Instrument\" is superordinate of \"Guitar\")"
   ]
  },
  {
   "cell_type": "code",
   "execution_count": 54,
   "metadata": {
    "colab": {
     "base_uri": "https://localhost:8080/",
     "height": 35
    },
    "colab_type": "code",
    "executionInfo": {
     "elapsed": 859,
     "status": "ok",
     "timestamp": 1542481814979,
     "user": {
      "displayName": "Carlos Henrique Quartucci Forster",
      "photoUrl": "",
      "userId": "02137782012702851301"
     },
     "user_tz": 120
    },
    "id": "fvUAEQ46i_1n",
    "outputId": "ee3eb8fb-6c67-45ad-ee1a-aad1113d4d90"
   },
   "outputs": [
    {
     "data": {
      "text/plain": [
       "[Synset('solanaceous_vegetable.n.01')]"
      ]
     },
     "execution_count": 54,
     "metadata": {
      "tags": []
     },
     "output_type": "execute_result"
    }
   ],
   "source": [
    "wn.synset('tomato.n.01').hypernyms()"
   ]
  },
  {
   "cell_type": "code",
   "execution_count": 55,
   "metadata": {
    "colab": {
     "base_uri": "https://localhost:8080/",
     "height": 109
    },
    "colab_type": "code",
    "executionInfo": {
     "elapsed": 714,
     "status": "ok",
     "timestamp": 1542481817635,
     "user": {
      "displayName": "Carlos Henrique Quartucci Forster",
      "photoUrl": "",
      "userId": "02137782012702851301"
     },
     "user_tz": 120
    },
    "id": "wQ-qDbC1juaj",
    "outputId": "a6a73cc6-c88a-4453-cf30-c6596106fcc8"
   },
   "outputs": [
    {
     "data": {
      "text/plain": [
       "[Synset('eggplant.n.01'),\n",
       " Synset('pepper.n.04'),\n",
       " Synset('potato.n.01'),\n",
       " Synset('tomatillo.n.03'),\n",
       " Synset('tomato.n.01')]"
      ]
     },
     "execution_count": 55,
     "metadata": {
      "tags": []
     },
     "output_type": "execute_result"
    }
   ],
   "source": [
    "wn.synset('solanaceous_vegetable.n.01').hyponyms()"
   ]
  },
  {
   "cell_type": "code",
   "execution_count": 56,
   "metadata": {
    "colab": {
     "base_uri": "https://localhost:8080/",
     "height": 35
    },
    "colab_type": "code",
    "executionInfo": {
     "elapsed": 781,
     "status": "ok",
     "timestamp": 1542481820806,
     "user": {
      "displayName": "Carlos Henrique Quartucci Forster",
      "photoUrl": "",
      "userId": "02137782012702851301"
     },
     "user_tz": 120
    },
    "id": "XlvuC3aekGgB",
    "outputId": "4fc608ca-4459-4578-fc39-07e742a53952"
   },
   "outputs": [
    {
     "data": {
      "text/plain": [
       "[Synset('vegetable.n.01')]"
      ]
     },
     "execution_count": 56,
     "metadata": {
      "tags": []
     },
     "output_type": "execute_result"
    }
   ],
   "source": [
    "wn.synset('solanaceous_vegetable.n.01').hypernyms()"
   ]
  },
  {
   "cell_type": "markdown",
   "metadata": {},
   "source": [
    "**Hyponyms** as well! (Which are subordinate - the oposite relationship of hypernyms)"
   ]
  },
  {
   "cell_type": "code",
   "execution_count": 57,
   "metadata": {
    "colab": {
     "base_uri": "https://localhost:8080/",
     "height": 476
    },
    "colab_type": "code",
    "executionInfo": {
     "elapsed": 707,
     "status": "ok",
     "timestamp": 1542481823535,
     "user": {
      "displayName": "Carlos Henrique Quartucci Forster",
      "photoUrl": "",
      "userId": "02137782012702851301"
     },
     "user_tz": 120
    },
    "id": "QAhNnlUPkQyo",
    "outputId": "9d497a6d-faab-4c7d-ae82-6acac7ced824"
   },
   "outputs": [
    {
     "data": {
      "text/plain": [
       "[Synset('artichoke.n.02'),\n",
       " Synset('artichoke_heart.n.01'),\n",
       " Synset('asparagus.n.02'),\n",
       " Synset('bamboo_shoot.n.01'),\n",
       " Synset('cardoon.n.02'),\n",
       " Synset('celery.n.02'),\n",
       " Synset('cruciferous_vegetable.n.01'),\n",
       " Synset('cucumber.n.02'),\n",
       " Synset('fennel.n.02'),\n",
       " Synset('greens.n.01'),\n",
       " Synset('gumbo.n.03'),\n",
       " Synset('julienne.n.01'),\n",
       " Synset('leek.n.02'),\n",
       " Synset('legume.n.03'),\n",
       " Synset('mushroom.n.05'),\n",
       " Synset('onion.n.03'),\n",
       " Synset('pieplant.n.01'),\n",
       " Synset('plantain.n.03'),\n",
       " Synset('potherb.n.01'),\n",
       " Synset('pumpkin.n.02'),\n",
       " Synset('raw_vegetable.n.01'),\n",
       " Synset('root_vegetable.n.01'),\n",
       " Synset('solanaceous_vegetable.n.01'),\n",
       " Synset('squash.n.02'),\n",
       " Synset('truffle.n.02')]"
      ]
     },
     "execution_count": 57,
     "metadata": {
      "tags": []
     },
     "output_type": "execute_result"
    }
   ],
   "source": [
    "wn.synset('vegetable.n.01').hyponyms()"
   ]
  },
  {
   "cell_type": "code",
   "execution_count": 58,
   "metadata": {
    "colab": {
     "base_uri": "https://localhost:8080/",
     "height": 182
    },
    "colab_type": "code",
    "executionInfo": {
     "elapsed": 822,
     "status": "ok",
     "timestamp": 1542481827208,
     "user": {
      "displayName": "Carlos Henrique Quartucci Forster",
      "photoUrl": "",
      "userId": "02137782012702851301"
     },
     "user_tz": 120
    },
    "id": "MURhY81qlDai",
    "outputId": "943377fb-5a81-4d5d-f62c-c525e0e56f9d"
   },
   "outputs": [
    {
     "data": {
      "text/plain": [
       "[Synset('broccoli.n.02'),\n",
       " Synset('broccoli_rabe.n.02'),\n",
       " Synset('brussels_sprouts.n.01'),\n",
       " Synset('cabbage.n.01'),\n",
       " Synset('cauliflower.n.02'),\n",
       " Synset('kohlrabi.n.02'),\n",
       " Synset('mustard.n.03'),\n",
       " Synset('radish.n.01'),\n",
       " Synset('turnip.n.02')]"
      ]
     },
     "execution_count": 58,
     "metadata": {
      "tags": []
     },
     "output_type": "execute_result"
    }
   ],
   "source": [
    "wn.synset('cruciferous_vegetable.n.01').hyponyms()"
   ]
  },
  {
   "cell_type": "code",
   "execution_count": 59,
   "metadata": {
    "colab": {
     "base_uri": "https://localhost:8080/",
     "height": 35
    },
    "colab_type": "code",
    "executionInfo": {
     "elapsed": 1754,
     "status": "ok",
     "timestamp": 1542481830963,
     "user": {
      "displayName": "Carlos Henrique Quartucci Forster",
      "photoUrl": "",
      "userId": "02137782012702851301"
     },
     "user_tz": 120
    },
    "id": "DpG6bSsfly0I",
    "outputId": "27257ba8-9082-4302-f8b5-530e532c174f"
   },
   "outputs": [
    {
     "data": {
      "text/plain": [
       "[Synset('produce.n.01')]"
      ]
     },
     "execution_count": 59,
     "metadata": {
      "tags": []
     },
     "output_type": "execute_result"
    }
   ],
   "source": [
    "wn.synset('vegetable.n.01').hypernyms()"
   ]
  },
  {
   "cell_type": "code",
   "execution_count": 60,
   "metadata": {
    "colab": {
     "base_uri": "https://localhost:8080/",
     "height": 35
    },
    "colab_type": "code",
    "executionInfo": {
     "elapsed": 715,
     "status": "ok",
     "timestamp": 1542481834159,
     "user": {
      "displayName": "Carlos Henrique Quartucci Forster",
      "photoUrl": "",
      "userId": "02137782012702851301"
     },
     "user_tz": 120
    },
    "id": "s_QXR9XImCPE",
    "outputId": "41a626d2-0514-4967-afaf-25c6361d21d1"
   },
   "outputs": [
    {
     "data": {
      "text/plain": [
       "[Synset('eater.n.02'), Synset('edible_fruit.n.01'), Synset('vegetable.n.01')]"
      ]
     },
     "execution_count": 60,
     "metadata": {
      "tags": []
     },
     "output_type": "execute_result"
    }
   ],
   "source": [
    "wn.synset('produce.n.01').hyponyms()"
   ]
  },
  {
   "cell_type": "code",
   "execution_count": 61,
   "metadata": {
    "colab": {
     "base_uri": "https://localhost:8080/",
     "height": 35
    },
    "colab_type": "code",
    "executionInfo": {
     "elapsed": 789,
     "status": "ok",
     "timestamp": 1542481837874,
     "user": {
      "displayName": "Carlos Henrique Quartucci Forster",
      "photoUrl": "",
      "userId": "02137782012702851301"
     },
     "user_tz": 120
    },
    "id": "vY99ZphQoEXe",
    "outputId": "a8df381d-9945-4de4-9e9b-21e182eb2e64"
   },
   "outputs": [
    {
     "data": {
      "text/plain": [
       "[Synset('vegetable.n.01')]"
      ]
     },
     "execution_count": 61,
     "metadata": {
      "tags": []
     },
     "output_type": "execute_result"
    }
   ],
   "source": [
    "wn.synset('cabbage.n.01').lowest_common_hypernyms(wn.synset('tomato.n.01'))"
   ]
  },
  {
   "cell_type": "markdown",
   "metadata": {
    "colab_type": "text",
    "id": "s6J8BN9xpZ7K"
   },
   "source": [
    "## Disambiguation <a id='disambiguation'></a>\n",
    "\n",
    "It is common to end up on ambiguities. Path similarity can be used in wordnet to **calculate the distance between *synsets*.**"
   ]
  },
  {
   "cell_type": "code",
   "execution_count": 62,
   "metadata": {
    "colab": {
     "base_uri": "https://localhost:8080/",
     "height": 35
    },
    "colab_type": "code",
    "executionInfo": {
     "elapsed": 811,
     "status": "ok",
     "timestamp": 1542481842414,
     "user": {
      "displayName": "Carlos Henrique Quartucci Forster",
      "photoUrl": "",
      "userId": "02137782012702851301"
     },
     "user_tz": 120
    },
    "id": "AxY6KqQppcNm",
    "outputId": "f0673508-838e-4279-f25e-4368111097ae"
   },
   "outputs": [
    {
     "data": {
      "text/plain": [
       "0.2"
      ]
     },
     "execution_count": 62,
     "metadata": {
      "tags": []
     },
     "output_type": "execute_result"
    }
   ],
   "source": [
    "wn.synset('cabbage.n.01').path_similarity(wn.synset('tomato.n.01'))"
   ]
  },
  {
   "cell_type": "code",
   "execution_count": 63,
   "metadata": {
    "colab": {
     "base_uri": "https://localhost:8080/",
     "height": 35
    },
    "colab_type": "code",
    "executionInfo": {
     "elapsed": 1024,
     "status": "ok",
     "timestamp": 1542481845317,
     "user": {
      "displayName": "Carlos Henrique Quartucci Forster",
      "photoUrl": "",
      "userId": "02137782012702851301"
     },
     "user_tz": 120
    },
    "id": "KkBUYWOYp6Ir",
    "outputId": "017ad311-6511-4af0-d9d4-af1b2edc0293"
   },
   "outputs": [
    {
     "data": {
      "text/plain": [
       "0.058823529411764705"
      ]
     },
     "execution_count": 63,
     "metadata": {
      "tags": []
     },
     "output_type": "execute_result"
    }
   ],
   "source": [
    "wn.synset('cabbage.n.01').path_similarity(wn.synset('car.n.01'))"
   ]
  },
  {
   "cell_type": "markdown",
   "metadata": {},
   "source": [
    "And NLTK has *Lesk* which can be used to get the **definition of a word in the context of a sentence.**"
   ]
  },
  {
   "cell_type": "code",
   "execution_count": 64,
   "metadata": {
    "colab": {
     "base_uri": "https://localhost:8080/",
     "height": 54
    },
    "colab_type": "code",
    "executionInfo": {
     "elapsed": 1831,
     "status": "ok",
     "timestamp": 1542481849979,
     "user": {
      "displayName": "Carlos Henrique Quartucci Forster",
      "photoUrl": "",
      "userId": "02137782012702851301"
     },
     "user_tz": 120
    },
    "id": "PSvzxnPVqQ6M",
    "outputId": "74e2aefe-04bc-462a-c956-8b25e277d454"
   },
   "outputs": [
    {
     "data": {
      "text/plain": [
       "(Synset('savings_bank.n.02'),\n",
       " 'a container (usually with a slot in the top) for keeping money at home')"
      ]
     },
     "execution_count": 64,
     "metadata": {
      "tags": []
     },
     "output_type": "execute_result"
    }
   ],
   "source": [
    "from nltk.wsd import lesk\n",
    "sent = ['I', 'went', 'to', 'the', 'bank', 'to', 'deposit', 'money', '.']\n",
    "lesk(sent,'bank'), lesk(sent,'bank').definition()"
   ]
  },
  {
   "cell_type": "code",
   "execution_count": 65,
   "metadata": {
    "colab": {
     "base_uri": "https://localhost:8080/",
     "height": 35
    },
    "colab_type": "code",
    "executionInfo": {
     "elapsed": 1032,
     "status": "ok",
     "timestamp": 1542481858075,
     "user": {
      "displayName": "Carlos Henrique Quartucci Forster",
      "photoUrl": "",
      "userId": "02137782012702851301"
     },
     "user_tz": 120
    },
    "id": "Vx3oCxSAq9ot",
    "outputId": "cbab49b7-fe7b-4778-e9a3-10038af13584"
   },
   "outputs": [
    {
     "data": {
      "text/plain": [
       "(Synset('bank.n.07'), 'put into a bank account')"
      ]
     },
     "execution_count": 65,
     "metadata": {
      "tags": []
     },
     "output_type": "execute_result"
    }
   ],
   "source": [
    "sent = 'The bank is steep'.split()\n",
    "lesk(sent,'bank','n'), lesk(sent,'bank').definition()"
   ]
  },
  {
   "cell_type": "code",
   "execution_count": 66,
   "metadata": {
    "colab": {
     "base_uri": "https://localhost:8080/",
     "height": 35
    },
    "colab_type": "code",
    "executionInfo": {
     "elapsed": 1755,
     "status": "ok",
     "timestamp": 1542481867684,
     "user": {
      "displayName": "Carlos Henrique Quartucci Forster",
      "photoUrl": "",
      "userId": "02137782012702851301"
     },
     "user_tz": 120
    },
    "id": "fRfNtyjHsH54",
    "outputId": "f5814776-7c97-454e-95a3-5e3e75530e17"
   },
   "outputs": [
    {
     "data": {
      "text/plain": [
       "\"take on as one's own the expenses or debts of another person\""
      ]
     },
     "execution_count": 66,
     "metadata": {
      "tags": []
     },
     "output_type": "execute_result"
    }
   ],
   "source": [
    "lesk('I bear the pain of the bear.'.split(),'bear').definition()"
   ]
  },
  {
   "cell_type": "code",
   "execution_count": 67,
   "metadata": {
    "colab": {
     "base_uri": "https://localhost:8080/",
     "height": 35
    },
    "colab_type": "code",
    "executionInfo": {
     "elapsed": 1487,
     "status": "ok",
     "timestamp": 1542481878974,
     "user": {
      "displayName": "Carlos Henrique Quartucci Forster",
      "photoUrl": "",
      "userId": "02137782012702851301"
     },
     "user_tz": 120
    },
    "id": "s0Pvc12tuO20",
    "outputId": "0eb4fb3a-8db3-455a-fb40-d6e24cb2ae9f"
   },
   "outputs": [
    {
     "data": {
      "text/plain": [
       "'an investor with a pessimistic market outlook; an investor who expects prices to fall and so sells now in order to buy later at a lower price'"
      ]
     },
     "execution_count": 67,
     "metadata": {
      "tags": []
     },
     "output_type": "execute_result"
    }
   ],
   "source": [
    "lesk('I got used to the pain of the bear'.split(),'bear','n').definition()"
   ]
  },
  {
   "cell_type": "code",
   "execution_count": 77,
   "metadata": {
    "colab": {
     "base_uri": "https://localhost:8080/",
     "height": 35
    },
    "colab_type": "code",
    "executionInfo": {
     "elapsed": 1204,
     "status": "ok",
     "timestamp": 1542482086692,
     "user": {
      "displayName": "Carlos Henrique Quartucci Forster",
      "photoUrl": "",
      "userId": "02137782012702851301"
     },
     "user_tz": 120
    },
    "id": "vEcWLHi2Fa3Z",
    "outputId": "6aadfa7c-6a52-450c-e23e-908bcfb33dbf"
   },
   "outputs": [
    {
     "data": {
      "text/plain": [
       "'a visual receptor cell in the retina that is sensitive to bright light and to color'"
      ]
     },
     "execution_count": 77,
     "metadata": {
      "tags": []
     },
     "output_type": "execute_result"
    }
   ],
   "source": [
    "lesk('Drop the pine cone'.split(),'cone','n').definition()"
   ]
  },
  {
   "cell_type": "markdown",
   "metadata": {},
   "source": [
    "## For now.. that's it!"
   ]
  }
 ],
 "metadata": {
  "colab": {
   "collapsed_sections": [],
   "name": "NLTK_intro.ipynb",
   "provenance": [],
   "version": "0.3.2"
  },
  "kernelspec": {
   "display_name": "Python 3",
   "language": "python",
   "name": "python3"
  },
  "language_info": {
   "codemirror_mode": {
    "name": "ipython",
    "version": 3
   },
   "file_extension": ".py",
   "mimetype": "text/x-python",
   "name": "python",
   "nbconvert_exporter": "python",
   "pygments_lexer": "ipython3",
   "version": "3.7.1"
  }
 },
 "nbformat": 4,
 "nbformat_minor": 1
}
